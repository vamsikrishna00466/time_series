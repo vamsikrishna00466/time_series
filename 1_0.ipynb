{
  "nbformat": 4,
  "nbformat_minor": 0,
  "metadata": {
    "colab": {
      "name": "1.0.ipynb",
      "provenance": [],
      "collapsed_sections": [],
      "mount_file_id": "1A5DU2RO4bs1lFeF7_0Eqakiq8giGdwmQ",
      "authorship_tag": "ABX9TyOBTv9D+8QcW3GoURabQNBx",
      "include_colab_link": true
    },
    "kernelspec": {
      "name": "python3",
      "display_name": "Python 3"
    },
    "language_info": {
      "name": "python"
    }
  },
  "cells": [
    {
      "cell_type": "markdown",
      "metadata": {
        "id": "view-in-github",
        "colab_type": "text"
      },
      "source": [
        "<a href=\"https://colab.research.google.com/github/vamsikrishna00466/time_series/blob/main/1_0.ipynb\" target=\"_parent\"><img src=\"https://colab.research.google.com/assets/colab-badge.svg\" alt=\"Open In Colab\"/></a>"
      ]
    },
    {
      "cell_type": "code",
      "execution_count": 1,
      "metadata": {
        "id": "Vxh7hXvpP0S3"
      },
      "outputs": [],
      "source": [
        "#importing Necessary Libraries\n",
        "import pandas as pd\n",
        "import numpy as np\n",
        "import warnings\n",
        "warnings.filterwarnings('ignore')"
      ]
    },
    {
      "cell_type": "code",
      "source": [
        "#importing Raw data\n",
        "df=pd.read_excel('/content/drive/MyDrive/SCA Projects/Forecasting /Raw Data for Forecasting Project.xlsx')"
      ],
      "metadata": {
        "id": "TkD3ox-EP_4l"
      },
      "execution_count": 2,
      "outputs": []
    },
    {
      "cell_type": "code",
      "source": [
        "##Initial preprocessing(12-12-2021) work-Function\n",
        "def data_preprocess1(df):\n",
        "  df = df.drop(df.columns.to_series()[\"Unnamed: 6\":\"Receipt Details\"], axis=1)\n",
        "  df.columns = df.iloc[0]\n",
        "  df = df[1:].reset_index(drop=bool)\n",
        "  del df['Total']\n",
        "  df = df.melt(id_vars=[\"Part No.\", \"Unit Price\",'Category','Sales MOQ','Opening Stock'],\n",
        "               var_name=\"Month\",\n",
        "               value_name=\"demand\")\n",
        "  df['Month']=pd.to_datetime(df['Month']).dt.to_period('M')\n",
        "  df['Unit Price']=df['Unit Price'].astype('float')\n",
        "  df['Sales MOQ']=df['Sales MOQ'].astype('float')\n",
        "  df['Opening Stock']=df['Opening Stock'].astype('float')\n",
        "  df['demand']=df['demand'].astype('float')\n",
        "  return df"
      ],
      "metadata": {
        "id": "4IOni6urQGJ_"
      },
      "execution_count": 3,
      "outputs": []
    },
    {
      "cell_type": "code",
      "source": [
        "##Initial preprocessing raw data\n",
        "df1 = data_preprocess1(df)"
      ],
      "metadata": {
        "id": "mXvrlfWlQIzk"
      },
      "execution_count": 11,
      "outputs": []
    },
    {
      "cell_type": "code",
      "source": [
        "#removingg regular items\n",
        "Regular = df1[df1['Category']=='Regular']\n",
        "#dulpicates removing\n",
        "Regular = Regular.groupby(by=['Month','Part No.']).agg({'demand':'first',\n",
        "                                              'Opening Stock':'first',\n",
        "                                              'Sales MOQ':'first',\n",
        "                                              'Unit Price':'first',\n",
        "                                              }).reset_index()"
      ],
      "metadata": {
        "id": "f8fv6uU3yE2w"
      },
      "execution_count": 59,
      "outputs": []
    },
    {
      "cell_type": "code",
      "source": [
        "##converting categories into columns\n",
        "Regular1 = Regular.pivot(index='Month', columns='Part No.', values='demand')"
      ],
      "metadata": {
        "id": "s0UEMg2V47-E"
      },
      "execution_count": 100,
      "outputs": []
    },
    {
      "cell_type": "code",
      "source": [
        "Regular1.shape"
      ],
      "metadata": {
        "colab": {
          "base_uri": "https://localhost:8080/"
        },
        "id": "-xYdM40s2HzF",
        "outputId": "3674c075-74c4-4011-cd3c-c5e5fcf5a92e"
      },
      "execution_count": 101,
      "outputs": [
        {
          "output_type": "execute_result",
          "data": {
            "text/plain": [
              "(48, 11139)"
            ]
          },
          "metadata": {},
          "execution_count": 101
        }
      ]
    },
    {
      "cell_type": "code",
      "source": [
        "def missing_values(df, percentage):\n",
        "\n",
        "    columns = df.columns\n",
        "    percent_missing = df.isnull().sum() * 100 / len(df)\n",
        "    missing_value_df = pd.DataFrame({'column_name': columns,\n",
        "                                 'percent_missing': percent_missing})\n",
        "\n",
        "    missing_drop = list(missing_value_df[missing_value_df.percent_missing>percentage].column_name)\n",
        "    df = df.drop(missing_drop, axis=1)\n",
        "    return df"
      ],
      "metadata": {
        "id": "wsmHy3lY5w3P"
      },
      "execution_count": 92,
      "outputs": []
    },
    {
      "cell_type": "code",
      "source": [
        "Regular1 = missing_values(Regular1, 1)\n"
      ],
      "metadata": {
        "id": "CVLZQPgq5y68"
      },
      "execution_count": 103,
      "outputs": []
    },
    {
      "cell_type": "code",
      "source": [
        "Cor = Regular1.corr().abs()"
      ],
      "metadata": {
        "id": "pGNLWPVY1ojm"
      },
      "execution_count": 111,
      "outputs": []
    },
    {
      "cell_type": "code",
      "source": [
        "s = Cor.unstack()\n",
        "so = s.sort_values(kind=\"quicksort\")"
      ],
      "metadata": {
        "id": "sBFlK3ha7pII"
      },
      "execution_count": 113,
      "outputs": []
    },
    {
      "cell_type": "code",
      "source": [
        "s1= s[s!=1]\n",
        "s1[s1>0.99]"
      ],
      "metadata": {
        "colab": {
          "base_uri": "https://localhost:8080/"
        },
        "id": "e7NMdN4h7exK",
        "outputId": "c227199d-9a6b-48b9-d5be-ebd4e05204a9"
      },
      "execution_count": 121,
      "outputs": [
        {
          "output_type": "execute_result",
          "data": {
            "text/plain": [
              "Part No.  Part No.\n",
              "A0086     B0824       0.996455\n",
              "A0780     B0987       0.997732\n",
              "          D0324       0.998264\n",
              "          G0988       0.998340\n",
              "          H0027       0.994853\n",
              "                        ...   \n",
              "P0744     P0737       0.995277\n",
              "          P0739       0.995767\n",
              "          P0740       0.996099\n",
              "          P0741       0.996099\n",
              "          P0742       0.996424\n",
              "Length: 124, dtype: float64"
            ]
          },
          "metadata": {},
          "execution_count": 121
        }
      ]
    },
    {
      "cell_type": "code",
      "source": [
        "Z = Regular1[Regular1==0].count()\n",
        "Z[Z<=0]"
      ],
      "metadata": {
        "colab": {
          "base_uri": "https://localhost:8080/"
        },
        "id": "gn_T89Ex6uMB",
        "outputId": "a1b8d0e7-5651-4485-b2d8-9e4002bd851e"
      },
      "execution_count": 146,
      "outputs": [
        {
          "output_type": "execute_result",
          "data": {
            "text/plain": [
              "Part No.\n",
              "H0871    0\n",
              "N0403    0\n",
              "dtype: int64"
            ]
          },
          "metadata": {},
          "execution_count": 146
        }
      ]
    },
    {
      "cell_type": "code",
      "source": [
        "Regular1[['H0871','N0403']].corr()"
      ],
      "metadata": {
        "colab": {
          "base_uri": "https://localhost:8080/",
          "height": 143
        },
        "id": "G1MdJBti83Vk",
        "outputId": "7772c775-4d6f-4652-948a-34df39876c20"
      },
      "execution_count": 148,
      "outputs": [
        {
          "output_type": "execute_result",
          "data": {
            "text/html": [
              "\n",
              "  <div id=\"df-77f1293c-6f5c-4d09-b136-dcf1a39eaa82\">\n",
              "    <div class=\"colab-df-container\">\n",
              "      <div>\n",
              "<style scoped>\n",
              "    .dataframe tbody tr th:only-of-type {\n",
              "        vertical-align: middle;\n",
              "    }\n",
              "\n",
              "    .dataframe tbody tr th {\n",
              "        vertical-align: top;\n",
              "    }\n",
              "\n",
              "    .dataframe thead th {\n",
              "        text-align: right;\n",
              "    }\n",
              "</style>\n",
              "<table border=\"1\" class=\"dataframe\">\n",
              "  <thead>\n",
              "    <tr style=\"text-align: right;\">\n",
              "      <th>Part No.</th>\n",
              "      <th>H0871</th>\n",
              "      <th>N0403</th>\n",
              "    </tr>\n",
              "    <tr>\n",
              "      <th>Part No.</th>\n",
              "      <th></th>\n",
              "      <th></th>\n",
              "    </tr>\n",
              "  </thead>\n",
              "  <tbody>\n",
              "    <tr>\n",
              "      <th>H0871</th>\n",
              "      <td>1.000000</td>\n",
              "      <td>0.311012</td>\n",
              "    </tr>\n",
              "    <tr>\n",
              "      <th>N0403</th>\n",
              "      <td>0.311012</td>\n",
              "      <td>1.000000</td>\n",
              "    </tr>\n",
              "  </tbody>\n",
              "</table>\n",
              "</div>\n",
              "      <button class=\"colab-df-convert\" onclick=\"convertToInteractive('df-77f1293c-6f5c-4d09-b136-dcf1a39eaa82')\"\n",
              "              title=\"Convert this dataframe to an interactive table.\"\n",
              "              style=\"display:none;\">\n",
              "        \n",
              "  <svg xmlns=\"http://www.w3.org/2000/svg\" height=\"24px\"viewBox=\"0 0 24 24\"\n",
              "       width=\"24px\">\n",
              "    <path d=\"M0 0h24v24H0V0z\" fill=\"none\"/>\n",
              "    <path d=\"M18.56 5.44l.94 2.06.94-2.06 2.06-.94-2.06-.94-.94-2.06-.94 2.06-2.06.94zm-11 1L8.5 8.5l.94-2.06 2.06-.94-2.06-.94L8.5 2.5l-.94 2.06-2.06.94zm10 10l.94 2.06.94-2.06 2.06-.94-2.06-.94-.94-2.06-.94 2.06-2.06.94z\"/><path d=\"M17.41 7.96l-1.37-1.37c-.4-.4-.92-.59-1.43-.59-.52 0-1.04.2-1.43.59L10.3 9.45l-7.72 7.72c-.78.78-.78 2.05 0 2.83L4 21.41c.39.39.9.59 1.41.59.51 0 1.02-.2 1.41-.59l7.78-7.78 2.81-2.81c.8-.78.8-2.07 0-2.86zM5.41 20L4 18.59l7.72-7.72 1.47 1.35L5.41 20z\"/>\n",
              "  </svg>\n",
              "      </button>\n",
              "      \n",
              "  <style>\n",
              "    .colab-df-container {\n",
              "      display:flex;\n",
              "      flex-wrap:wrap;\n",
              "      gap: 12px;\n",
              "    }\n",
              "\n",
              "    .colab-df-convert {\n",
              "      background-color: #E8F0FE;\n",
              "      border: none;\n",
              "      border-radius: 50%;\n",
              "      cursor: pointer;\n",
              "      display: none;\n",
              "      fill: #1967D2;\n",
              "      height: 32px;\n",
              "      padding: 0 0 0 0;\n",
              "      width: 32px;\n",
              "    }\n",
              "\n",
              "    .colab-df-convert:hover {\n",
              "      background-color: #E2EBFA;\n",
              "      box-shadow: 0px 1px 2px rgba(60, 64, 67, 0.3), 0px 1px 3px 1px rgba(60, 64, 67, 0.15);\n",
              "      fill: #174EA6;\n",
              "    }\n",
              "\n",
              "    [theme=dark] .colab-df-convert {\n",
              "      background-color: #3B4455;\n",
              "      fill: #D2E3FC;\n",
              "    }\n",
              "\n",
              "    [theme=dark] .colab-df-convert:hover {\n",
              "      background-color: #434B5C;\n",
              "      box-shadow: 0px 1px 3px 1px rgba(0, 0, 0, 0.15);\n",
              "      filter: drop-shadow(0px 1px 2px rgba(0, 0, 0, 0.3));\n",
              "      fill: #FFFFFF;\n",
              "    }\n",
              "  </style>\n",
              "\n",
              "      <script>\n",
              "        const buttonEl =\n",
              "          document.querySelector('#df-77f1293c-6f5c-4d09-b136-dcf1a39eaa82 button.colab-df-convert');\n",
              "        buttonEl.style.display =\n",
              "          google.colab.kernel.accessAllowed ? 'block' : 'none';\n",
              "\n",
              "        async function convertToInteractive(key) {\n",
              "          const element = document.querySelector('#df-77f1293c-6f5c-4d09-b136-dcf1a39eaa82');\n",
              "          const dataTable =\n",
              "            await google.colab.kernel.invokeFunction('convertToInteractive',\n",
              "                                                     [key], {});\n",
              "          if (!dataTable) return;\n",
              "\n",
              "          const docLinkHtml = 'Like what you see? Visit the ' +\n",
              "            '<a target=\"_blank\" href=https://colab.research.google.com/notebooks/data_table.ipynb>data table notebook</a>'\n",
              "            + ' to learn more about interactive tables.';\n",
              "          element.innerHTML = '';\n",
              "          dataTable['output_type'] = 'display_data';\n",
              "          await google.colab.output.renderOutput(dataTable, element);\n",
              "          const docLink = document.createElement('div');\n",
              "          docLink.innerHTML = docLinkHtml;\n",
              "          element.appendChild(docLink);\n",
              "        }\n",
              "      </script>\n",
              "    </div>\n",
              "  </div>\n",
              "  "
            ],
            "text/plain": [
              "Part No.     H0871     N0403\n",
              "Part No.                    \n",
              "H0871     1.000000  0.311012\n",
              "N0403     0.311012  1.000000"
            ]
          },
          "metadata": {},
          "execution_count": 148
        }
      ]
    },
    {
      "cell_type": "code",
      "source": [
        "Regular2 = Regular1[['H0871','N0403']]"
      ],
      "metadata": {
        "id": "94q8WZLi-Xts"
      },
      "execution_count": 150,
      "outputs": []
    },
    {
      "cell_type": "code",
      "source": [
        "Regular2.plot()"
      ],
      "metadata": {
        "colab": {
          "base_uri": "https://localhost:8080/",
          "height": 308
        },
        "id": "bP0t1tNL-IZh",
        "outputId": "f4e8a1de-2431-407a-8b47-ff5b5ac6e018"
      },
      "execution_count": 151,
      "outputs": [
        {
          "output_type": "execute_result",
          "data": {
            "text/plain": [
              "<matplotlib.axes._subplots.AxesSubplot at 0x7f105ecb35d0>"
            ]
          },
          "metadata": {},
          "execution_count": 151
        },
        {
          "output_type": "display_data",
          "data": {
            "image/png": "[encoded data removed]",
            "text/plain": [
              "<Figure size 432x288 with 1 Axes>"
            ]
          },
          "metadata": {
            "needs_background": "light"
          }
        }
      ]
    },
    {
      "cell_type": "code",
      "source": [
        ""
      ],
      "metadata": {
        "id": "uXiBF_ZG8hok"
      },
      "execution_count": null,
      "outputs": []
    }
  ]
}