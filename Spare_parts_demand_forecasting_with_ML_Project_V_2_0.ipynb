{
  "nbformat": 4,
  "nbformat_minor": 0,
  "metadata": {
    "colab": {
      "name": "Spare_parts_demand_forecasting_with_ML_Project_V_2_0.ipynb",
      "provenance": [],
      "mount_file_id": "1u881aC_tbOVgGKOj6FEQG-DASJ0TEQUm",
      "authorship_tag": "ABX9TyMpOdalNU4KX5ghF/0MxQsk",
      "include_colab_link": true
    },
    "kernelspec": {
      "name": "python3",
      "display_name": "Python 3"
    },
    "language_info": {
      "name": "python"
    }
  },
  "cells": [
    {
      "cell_type": "markdown",
      "metadata": {
        "id": "view-in-github",
        "colab_type": "text"
      },
      "source": [
        "<a href=\"https://colab.research.google.com/github/vamsikrishna00466/time_series/blob/main/Spare_parts_demand_forecasting_with_ML_Project_V_2_0.ipynb\" target=\"_parent\"><img src=\"https://colab.research.google.com/assets/colab-badge.svg\" alt=\"Open In Colab\"/></a>"
      ]
    },
    {
      "cell_type": "markdown",
      "source": [
        "## Data Preprocessing"
      ],
      "metadata": {
        "id": "NT1MIHWnK12C"
      }
    },
    {
      "cell_type": "code",
      "execution_count": null,
      "metadata": {
        "id": "Cz0Yb8-V1k-C"
      },
      "outputs": [],
      "source": [
        "pip install auto-sklearn"
      ]
    },
    {
      "cell_type": "code",
      "source": [
        "# print autosklearn version\n",
        "import autosklearn\n",
        "print('autosklearn: %s' % autosklearn.__version__)"
      ],
      "metadata": {
        "colab": {
          "base_uri": "https://localhost:8080/"
        },
        "id": "GGBvb62g43fx",
        "outputId": "6afc5914-141b-42e0-ae8f-8172633b9ea9"
      },
      "execution_count": 1,
      "outputs": [
        {
          "output_type": "stream",
          "name": "stdout",
          "text": [
            "autosklearn: 0.14.3\n"
          ]
        }
      ]
    },
    {
      "cell_type": "code",
      "source": [
        "  import pandas as pd\n",
        "  import numpy as np\n",
        "  import matplotlib.pyplot as plt\n",
        "  import datetime\n",
        "  pd.set_option('display.max_columns', 20)\n",
        "  import warnings\n",
        "  warnings.filterwarnings('ignore')\n",
        "  \n",
        "\n",
        "  path='/content/drive/MyDrive/SCA Projects/Forecasting /DFP11.01.2022.xlsx'"
      ],
      "metadata": {
        "id": "3DWfKQJ24hSb"
      },
      "execution_count": 2,
      "outputs": []
    },
    {
      "cell_type": "code",
      "source": [
        "class spare_parts_analysis:\n",
        "  #importing Necessary Librarie\n",
        "  def __init__(self, path):\n",
        "    self.path = path\n",
        "\n",
        "  def raw_data_cleaning(self,path):\n",
        "    #importing data\n",
        "    print('collecting data....')\n",
        "    df= pd.read_excel(path)\n",
        "    print('Data collection completed')\n",
        "    #droping unecessary cloumns by client guidence\n",
        "    print('\\nData clening in processing...')\n",
        "    droping_columns = df.loc[:, datetime.datetime(2017, 12, 1, 0, 0): 'Total'].columns.to_list()\n",
        "    df1 = df.copy()\n",
        "    del df1['Total.1']\n",
        "    for i in droping_columns:\n",
        "      del df1[i]\n",
        "    #converting date columns into rows\n",
        "    df2 = df1.melt(id_vars=[\"Part No. D\", \"NDP\",'Category','MOQ','Opening Stock'],\n",
        "                   var_name=\"Month\",value_name=\"demand\")\n",
        "    #HAndling missing values\n",
        "    df2['demand'] = df2['demand'].fillna(0)\n",
        "    df2['Opening Stock'] = df2['Opening Stock'].fillna(0)\n",
        "    df2['Part No. D'] = df2['Part No. D'].fillna('Missing_sku')\n",
        "    df2 = df2[df2['Part No. D']!='Missing_sku'].reset_index(drop=bool)\n",
        "    df2['Month'] = pd.to_datetime(df2['Month'])\n",
        "    #dulpicates removing\n",
        "    df2 = df2.groupby(by=['Month','Part No. D']).agg({'demand':'first',\n",
        "                                                      'Category':'first',\n",
        "                                                      'Opening Stock':'first',\n",
        "                                                      'MOQ':'first',\n",
        "                                                      'NDP':'first',\n",
        "                                                      }).reset_index()\n",
        "    print('Data clened')\n",
        "    return df2\n",
        "  \n",
        "  def data_manuplulation_from_raw_data(self,path,m):\n",
        "    df1 = self.raw_data_cleaning(path)\n",
        "    p = round(m/df1['Month'].nunique(),2)*100\n",
        "    #Sku And Category adding\n",
        "    print(f'\\nmore than {m} months no sales skus removing...')\n",
        "    df1['sku'] = df1['Part No. D']+'_'+df1['Category']\n",
        "    ##converting categories into columns\n",
        "    df2 = df1.pivot(index=['Month'], columns='sku', values='demand')\n",
        "    for i in df2.columns:\n",
        "      Zeros = round((len(df2[df2[i]==0])/len(df2))*100,3)\n",
        "      if Zeros>p:\n",
        "        del df2[i]\n",
        "    print(f'more than {m} months no sales skus removed\\n')\n",
        "    return df2\n",
        "  \n",
        "  #converting timeseries problem to supervised machinelearing problem\n",
        "  def time_series_to_SML(self,path,m):\n",
        "\n",
        "    df=self.data_manuplulation_from_raw_data(path,m)\n",
        "    print('\\nInitial data preprocessing completed\\n')\n",
        "    print('\\nTime series to supervised Ml conversion processing....\\n')\n",
        "    df_lag= df.copy()\n",
        "    #Lag values calculating\n",
        "    for i in df.columns:\n",
        "      for lag in [1,2,3,4,5,6]:\n",
        "        df_lag[str(i)+'_lag_'+str(lag)] = df_lag[i].shift(lag)\n",
        "    \n",
        "    #removing nan values(lag)\n",
        "    df1 = df.iloc[6:]\n",
        "    df_lag1 = df_lag.iloc[6:]\n",
        "      \n",
        "    #transfering columns to rowws\n",
        "    df1 = df1.reset_index()\n",
        "    df1 = df1.melt(id_vars=['Month'],\n",
        "                   var_name=\"SKU\",value_name=\"demand\")\n",
        "      \n",
        "    df_lag1 = df_lag1.reset_index()\n",
        "    df_lag1 = df_lag1.melt(id_vars=['Month'],\n",
        "                            var_name=\"SKU\",value_name=\"demand\")\n",
        "    #Lag values seperating\n",
        "    df_lag1['lag'] = df_lag1['SKU'].str[-5:-2]\n",
        "    lag = df_lag1[df_lag1['lag']=='lag'].reset_index(drop=bool)\n",
        "      \n",
        "    df_lag11 = df_lag1[df_lag1['lag']!='lag'].reset_index(drop=bool)\n",
        "    \n",
        "    lag['lag_value']=lag['SKU'].str[-1:]\n",
        "    lag['lag_value'] = lag['lag_value'].astype(int)\n",
        "\n",
        "    del lag['lag']\n",
        "\n",
        "    on = lag[lag['lag_value']==1]\n",
        "    tw = lag[lag['lag_value']==2]\n",
        "    th = lag[lag['lag_value']==3]\n",
        "    fo = lag[lag['lag_value']==4]\n",
        "    fi = lag[lag['lag_value']==5]\n",
        "    si = lag[lag['lag_value']==6]\n",
        "    \n",
        "\n",
        "    on = on.rename({'demand':'lag1'}, axis=1)\n",
        "    tw = tw.rename({'demand':'lag2'}, axis=1)\n",
        "    th = th.rename({'demand':'lag3'}, axis=1)\n",
        "    fo = fo.rename({'demand':'lag4'}, axis=1)\n",
        "    fi = fi.rename({'demand':'lag5'}, axis=1)\n",
        "    si = si.rename({'demand':'lag6'}, axis=1)\n",
        "    \n",
        "    del on['lag_value']\n",
        "    del tw['lag_value']\n",
        "    del th['lag_value']\n",
        "    del fo['lag_value']\n",
        "    del fi['lag_value']\n",
        "    del si['lag_value']\n",
        "\n",
        "    on['SKU'] = on['SKU'].str[:-6]\n",
        "    tw['SKU'] = tw['SKU'].str[:-6]\n",
        "    th['SKU'] = th['SKU'].str[:-6]\n",
        "    fo['SKU'] = fo['SKU'].str[:-6]\n",
        "    fi['SKU'] = fi['SKU'].str[:-6]\n",
        "    si['SKU'] = si['SKU'].str[:-6]\n",
        "      \n",
        "    lag_all = pd.merge(on,tw, on=['Month','SKU'])\n",
        "    lag_all = pd.merge(lag_all,th, on=['Month','SKU'])\n",
        "    lag_all = pd.merge(lag_all,fo, on=['Month','SKU'])\n",
        "    lag_all = pd.merge(lag_all,fi, on=['Month','SKU'])\n",
        "    lag_all = pd.merge(lag_all,si, on=['Month','SKU'])\n",
        "     \n",
        "    df_final = pd.merge(df1,lag_all, on=['Month','SKU'])\n",
        "    print('\\nTime series to supervised Ml conversion completed\\n')\n",
        "    return df,df_final"
      ],
      "metadata": {
        "id": "x1TVNwtM4mec"
      },
      "execution_count": 3,
      "outputs": []
    },
    {
      "cell_type": "code",
      "source": [
        "import time\n",
        "start = time.time()\n",
        "\n",
        "sku_analysis = spare_parts_analysis(path)\n",
        "\n",
        "df,df_processed = sku_analysis.time_series_to_SML(path,m=1)\n",
        "\n",
        "#df = sku_analysis.data_manuplulation_from_raw_data(path,m=1)\n",
        "\n",
        "end = time.time()\n",
        "print('Exicution time',round((end - start)/60,3),'Minutes')"
      ],
      "metadata": {
        "colab": {
          "base_uri": "https://localhost:8080/"
        },
        "id": "O9SGqCRb4rB5",
        "outputId": "10150e6c-cfd4-473f-9bbe-2bb73850a826"
      },
      "execution_count": 4,
      "outputs": [
        {
          "output_type": "stream",
          "name": "stdout",
          "text": [
            "collecting data....\n",
            "Data collection completed\n",
            "\n",
            "Data clening in processing...\n",
            "Data clened\n",
            "\n",
            "more than 1 months no sales skus removing...\n",
            "more than 1 months no sales skus removed\n",
            "\n",
            "\n",
            "Initial data preprocessing completed\n",
            "\n",
            "\n",
            "Time series to supervised Ml conversion processing....\n",
            "\n",
            "\n",
            "Time series to supervised Ml conversion completed\n",
            "\n",
            "Exicution time 1.74 Minutes\n"
          ]
        }
      ]
    },
    {
      "cell_type": "code",
      "source": [
        "df_final = df_processed.copy()"
      ],
      "metadata": {
        "id": "eRXfWEvPRIdo"
      },
      "execution_count": 5,
      "outputs": []
    },
    {
      "cell_type": "code",
      "source": [
        "#lable enconding of skus\n",
        "from sklearn import preprocessing\n",
        "\n",
        "le = preprocessing.LabelEncoder()\n",
        "\n",
        "le.fit(df_final['SKU'])\n",
        "\n",
        "df_final['SKU'] = le.transform(df_final['SKU'])\n",
        "#df_final['SKU'] = le.inverse_transform(df_final['SKU'])#for getting actual sku's\n",
        "\n",
        "df_final['year'] = pd.DatetimeIndex(df_final['Month']).year\n",
        "df_final['month'] = pd.DatetimeIndex(df_final['Month']).month\n",
        "\n",
        "del df_final['Month']\n",
        "\n",
        "df_final = df_final.sort_values(by=['year','month','SKU']).reset_index(drop=bool)\n",
        "\n",
        "X = df_final.copy()#predictors\n",
        "del X['demand']\n",
        "y=df_final['demand']#target variable\n"
      ],
      "metadata": {
        "id": "EBJiblfGPhKl"
      },
      "execution_count": 6,
      "outputs": []
    },
    {
      "cell_type": "code",
      "source": [
        "df_final"
      ],
      "metadata": {
        "colab": {
          "base_uri": "https://localhost:8080/",
          "height": 423
        },
        "id": "DoA9_xK0kBfN",
        "outputId": "4fe9ecc7-55b3-4fcf-828d-0487430d0c13"
      },
      "execution_count": 9,
      "outputs": [
        {
          "output_type": "execute_result",
          "data": {
            "text/html": [
              "\n",
              "  <div id=\"df-a06e46b8-d619-4902-a4a3-afcc1314eee8\">\n",
              "    <div class=\"colab-df-container\">\n",
              "      <div>\n",
              "<style scoped>\n",
              "    .dataframe tbody tr th:only-of-type {\n",
              "        vertical-align: middle;\n",
              "    }\n",
              "\n",
              "    .dataframe tbody tr th {\n",
              "        vertical-align: top;\n",
              "    }\n",
              "\n",
              "    .dataframe thead th {\n",
              "        text-align: right;\n",
              "    }\n",
              "</style>\n",
              "<table border=\"1\" class=\"dataframe\">\n",
              "  <thead>\n",
              "    <tr style=\"text-align: right;\">\n",
              "      <th></th>\n",
              "      <th>SKU</th>\n",
              "      <th>demand</th>\n",
              "      <th>lag1</th>\n",
              "      <th>lag2</th>\n",
              "      <th>lag3</th>\n",
              "      <th>lag4</th>\n",
              "      <th>lag5</th>\n",
              "      <th>lag6</th>\n",
              "      <th>year</th>\n",
              "      <th>month</th>\n",
              "    </tr>\n",
              "  </thead>\n",
              "  <tbody>\n",
              "    <tr>\n",
              "      <th>0</th>\n",
              "      <td>0</td>\n",
              "      <td>772.0</td>\n",
              "      <td>450.0</td>\n",
              "      <td>285.0</td>\n",
              "      <td>590.0</td>\n",
              "      <td>300.0</td>\n",
              "      <td>465.0</td>\n",
              "      <td>660.0</td>\n",
              "      <td>2018</td>\n",
              "      <td>6</td>\n",
              "    </tr>\n",
              "    <tr>\n",
              "      <th>1</th>\n",
              "      <td>1</td>\n",
              "      <td>1235.0</td>\n",
              "      <td>295.0</td>\n",
              "      <td>875.0</td>\n",
              "      <td>1180.0</td>\n",
              "      <td>950.0</td>\n",
              "      <td>1015.0</td>\n",
              "      <td>1551.0</td>\n",
              "      <td>2018</td>\n",
              "      <td>6</td>\n",
              "    </tr>\n",
              "    <tr>\n",
              "      <th>2</th>\n",
              "      <td>2</td>\n",
              "      <td>510.0</td>\n",
              "      <td>181.0</td>\n",
              "      <td>208.0</td>\n",
              "      <td>175.0</td>\n",
              "      <td>290.0</td>\n",
              "      <td>95.0</td>\n",
              "      <td>204.0</td>\n",
              "      <td>2018</td>\n",
              "      <td>6</td>\n",
              "    </tr>\n",
              "    <tr>\n",
              "      <th>3</th>\n",
              "      <td>3</td>\n",
              "      <td>670.0</td>\n",
              "      <td>455.0</td>\n",
              "      <td>280.0</td>\n",
              "      <td>225.0</td>\n",
              "      <td>245.0</td>\n",
              "      <td>250.0</td>\n",
              "      <td>432.0</td>\n",
              "      <td>2018</td>\n",
              "      <td>6</td>\n",
              "    </tr>\n",
              "    <tr>\n",
              "      <th>4</th>\n",
              "      <td>4</td>\n",
              "      <td>117.0</td>\n",
              "      <td>169.0</td>\n",
              "      <td>106.0</td>\n",
              "      <td>191.0</td>\n",
              "      <td>100.0</td>\n",
              "      <td>128.0</td>\n",
              "      <td>146.0</td>\n",
              "      <td>2018</td>\n",
              "      <td>6</td>\n",
              "    </tr>\n",
              "    <tr>\n",
              "      <th>...</th>\n",
              "      <td>...</td>\n",
              "      <td>...</td>\n",
              "      <td>...</td>\n",
              "      <td>...</td>\n",
              "      <td>...</td>\n",
              "      <td>...</td>\n",
              "      <td>...</td>\n",
              "      <td>...</td>\n",
              "      <td>...</td>\n",
              "      <td>...</td>\n",
              "    </tr>\n",
              "    <tr>\n",
              "      <th>19603</th>\n",
              "      <td>451</td>\n",
              "      <td>57.0</td>\n",
              "      <td>61.0</td>\n",
              "      <td>37.0</td>\n",
              "      <td>83.0</td>\n",
              "      <td>34.0</td>\n",
              "      <td>32.0</td>\n",
              "      <td>78.0</td>\n",
              "      <td>2021</td>\n",
              "      <td>12</td>\n",
              "    </tr>\n",
              "    <tr>\n",
              "      <th>19604</th>\n",
              "      <td>452</td>\n",
              "      <td>58.0</td>\n",
              "      <td>28.0</td>\n",
              "      <td>30.0</td>\n",
              "      <td>16.0</td>\n",
              "      <td>16.0</td>\n",
              "      <td>29.0</td>\n",
              "      <td>55.0</td>\n",
              "      <td>2021</td>\n",
              "      <td>12</td>\n",
              "    </tr>\n",
              "    <tr>\n",
              "      <th>19605</th>\n",
              "      <td>453</td>\n",
              "      <td>375.0</td>\n",
              "      <td>306.0</td>\n",
              "      <td>323.0</td>\n",
              "      <td>260.0</td>\n",
              "      <td>180.0</td>\n",
              "      <td>108.0</td>\n",
              "      <td>191.0</td>\n",
              "      <td>2021</td>\n",
              "      <td>12</td>\n",
              "    </tr>\n",
              "    <tr>\n",
              "      <th>19606</th>\n",
              "      <td>454</td>\n",
              "      <td>450.0</td>\n",
              "      <td>421.0</td>\n",
              "      <td>387.0</td>\n",
              "      <td>365.0</td>\n",
              "      <td>287.0</td>\n",
              "      <td>262.0</td>\n",
              "      <td>371.0</td>\n",
              "      <td>2021</td>\n",
              "      <td>12</td>\n",
              "    </tr>\n",
              "    <tr>\n",
              "      <th>19607</th>\n",
              "      <td>455</td>\n",
              "      <td>448.0</td>\n",
              "      <td>632.0</td>\n",
              "      <td>944.0</td>\n",
              "      <td>620.0</td>\n",
              "      <td>446.0</td>\n",
              "      <td>711.0</td>\n",
              "      <td>460.0</td>\n",
              "      <td>2021</td>\n",
              "      <td>12</td>\n",
              "    </tr>\n",
              "  </tbody>\n",
              "</table>\n",
              "<p>19608 rows × 10 columns</p>\n",
              "</div>\n",
              "      <button class=\"colab-df-convert\" onclick=\"convertToInteractive('df-a06e46b8-d619-4902-a4a3-afcc1314eee8')\"\n",
              "              title=\"Convert this dataframe to an interactive table.\"\n",
              "              style=\"display:none;\">\n",
              "        \n",
              "  <svg xmlns=\"http://www.w3.org/2000/svg\" height=\"24px\"viewBox=\"0 0 24 24\"\n",
              "       width=\"24px\">\n",
              "    <path d=\"M0 0h24v24H0V0z\" fill=\"none\"/>\n",
              "    <path d=\"M18.56 5.44l.94 2.06.94-2.06 2.06-.94-2.06-.94-.94-2.06-.94 2.06-2.06.94zm-11 1L8.5 8.5l.94-2.06 2.06-.94-2.06-.94L8.5 2.5l-.94 2.06-2.06.94zm10 10l.94 2.06.94-2.06 2.06-.94-2.06-.94-.94-2.06-.94 2.06-2.06.94z\"/><path d=\"M17.41 7.96l-1.37-1.37c-.4-.4-.92-.59-1.43-.59-.52 0-1.04.2-1.43.59L10.3 9.45l-7.72 7.72c-.78.78-.78 2.05 0 2.83L4 21.41c.39.39.9.59 1.41.59.51 0 1.02-.2 1.41-.59l7.78-7.78 2.81-2.81c.8-.78.8-2.07 0-2.86zM5.41 20L4 18.59l7.72-7.72 1.47 1.35L5.41 20z\"/>\n",
              "  </svg>\n",
              "      </button>\n",
              "      \n",
              "  <style>\n",
              "    .colab-df-container {\n",
              "      display:flex;\n",
              "      flex-wrap:wrap;\n",
              "      gap: 12px;\n",
              "    }\n",
              "\n",
              "    .colab-df-convert {\n",
              "      background-color: #E8F0FE;\n",
              "      border: none;\n",
              "      border-radius: 50%;\n",
              "      cursor: pointer;\n",
              "      display: none;\n",
              "      fill: #1967D2;\n",
              "      height: 32px;\n",
              "      padding: 0 0 0 0;\n",
              "      width: 32px;\n",
              "    }\n",
              "\n",
              "    .colab-df-convert:hover {\n",
              "      background-color: #E2EBFA;\n",
              "      box-shadow: 0px 1px 2px rgba(60, 64, 67, 0.3), 0px 1px 3px 1px rgba(60, 64, 67, 0.15);\n",
              "      fill: #174EA6;\n",
              "    }\n",
              "\n",
              "    [theme=dark] .colab-df-convert {\n",
              "      background-color: #3B4455;\n",
              "      fill: #D2E3FC;\n",
              "    }\n",
              "\n",
              "    [theme=dark] .colab-df-convert:hover {\n",
              "      background-color: #434B5C;\n",
              "      box-shadow: 0px 1px 3px 1px rgba(0, 0, 0, 0.15);\n",
              "      filter: drop-shadow(0px 1px 2px rgba(0, 0, 0, 0.3));\n",
              "      fill: #FFFFFF;\n",
              "    }\n",
              "  </style>\n",
              "\n",
              "      <script>\n",
              "        const buttonEl =\n",
              "          document.querySelector('#df-a06e46b8-d619-4902-a4a3-afcc1314eee8 button.colab-df-convert');\n",
              "        buttonEl.style.display =\n",
              "          google.colab.kernel.accessAllowed ? 'block' : 'none';\n",
              "\n",
              "        async function convertToInteractive(key) {\n",
              "          const element = document.querySelector('#df-a06e46b8-d619-4902-a4a3-afcc1314eee8');\n",
              "          const dataTable =\n",
              "            await google.colab.kernel.invokeFunction('convertToInteractive',\n",
              "                                                     [key], {});\n",
              "          if (!dataTable) return;\n",
              "\n",
              "          const docLinkHtml = 'Like what you see? Visit the ' +\n",
              "            '<a target=\"_blank\" href=https://colab.research.google.com/notebooks/data_table.ipynb>data table notebook</a>'\n",
              "            + ' to learn more about interactive tables.';\n",
              "          element.innerHTML = '';\n",
              "          dataTable['output_type'] = 'display_data';\n",
              "          await google.colab.output.renderOutput(dataTable, element);\n",
              "          const docLink = document.createElement('div');\n",
              "          docLink.innerHTML = docLinkHtml;\n",
              "          element.appendChild(docLink);\n",
              "        }\n",
              "      </script>\n",
              "    </div>\n",
              "  </div>\n",
              "  "
            ],
            "text/plain": [
              "       SKU  demand   lag1   lag2    lag3   lag4    lag5    lag6  year  month\n",
              "0        0   772.0  450.0  285.0   590.0  300.0   465.0   660.0  2018      6\n",
              "1        1  1235.0  295.0  875.0  1180.0  950.0  1015.0  1551.0  2018      6\n",
              "2        2   510.0  181.0  208.0   175.0  290.0    95.0   204.0  2018      6\n",
              "3        3   670.0  455.0  280.0   225.0  245.0   250.0   432.0  2018      6\n",
              "4        4   117.0  169.0  106.0   191.0  100.0   128.0   146.0  2018      6\n",
              "...    ...     ...    ...    ...     ...    ...     ...     ...   ...    ...\n",
              "19603  451    57.0   61.0   37.0    83.0   34.0    32.0    78.0  2021     12\n",
              "19604  452    58.0   28.0   30.0    16.0   16.0    29.0    55.0  2021     12\n",
              "19605  453   375.0  306.0  323.0   260.0  180.0   108.0   191.0  2021     12\n",
              "19606  454   450.0  421.0  387.0   365.0  287.0   262.0   371.0  2021     12\n",
              "19607  455   448.0  632.0  944.0   620.0  446.0   711.0   460.0  2021     12\n",
              "\n",
              "[19608 rows x 10 columns]"
            ]
          },
          "metadata": {},
          "execution_count": 9
        }
      ]
    },
    {
      "cell_type": "code",
      "source": [
        "y"
      ],
      "metadata": {
        "colab": {
          "base_uri": "https://localhost:8080/"
        },
        "id": "il1eK4tbkEJ3",
        "outputId": "fe8deaa6-4332-459e-eeec-a7232b9f42dc"
      },
      "execution_count": 10,
      "outputs": [
        {
          "output_type": "execute_result",
          "data": {
            "text/plain": [
              "0         772.0\n",
              "1        1235.0\n",
              "2         510.0\n",
              "3         670.0\n",
              "4         117.0\n",
              "          ...  \n",
              "19603      57.0\n",
              "19604      58.0\n",
              "19605     375.0\n",
              "19606     450.0\n",
              "19607     448.0\n",
              "Name: demand, Length: 19608, dtype: float64"
            ]
          },
          "metadata": {},
          "execution_count": 10
        }
      ]
    },
    {
      "cell_type": "markdown",
      "source": [
        "## Train Test Split"
      ],
      "metadata": {
        "id": "ihed8qztNyls"
      }
    },
    {
      "cell_type": "code",
      "source": [
        "#creating the train and Test set\n",
        "X_train = X[:int(0.8*(len(X)))]\n",
        "y_train = y[:int(0.8*(len(X)))]\n",
        "\n",
        "X_test = X[int(0.8*(len(X))):]\n",
        "y_test = y[int(0.8*(len(X))):]"
      ],
      "metadata": {
        "id": "rzHq6lSbGbWs"
      },
      "execution_count": 11,
      "outputs": []
    },
    {
      "cell_type": "markdown",
      "source": [
        "## Auto ML"
      ],
      "metadata": {
        "id": "g_tgVEZ5jvdz"
      }
    },
    {
      "cell_type": "code",
      "source": [
        "from autosklearn.regression import AutoSklearnRegressor\n",
        "from autosklearn.metrics import mean_absolute_error as auto_mean_absolute_error\n",
        "from sklearn.metrics import mean_absolute_error\n"
      ],
      "metadata": {
        "id": "pO5JP26wjpFk"
      },
      "execution_count": 12,
      "outputs": []
    },
    {
      "cell_type": "code",
      "source": [
        "import time\n",
        "start = time.time()\n",
        "\n",
        "# define search\n",
        "model = AutoSklearnRegressor(time_left_for_this_task=5*60,\n",
        "                             per_run_time_limit=30, n_jobs=8)\n",
        "\n",
        "# perform the search\n",
        "model.fit(X_train, y_train)\n",
        "\n",
        "# summarize\n",
        "print(model.sprint_statistics())\n",
        "\n",
        "# evaluate best model\n",
        "y_hat = model.predict(X_test)\n",
        "\n",
        "#Error calculation\n",
        "from sklearn.metrics import mean_squared_error\n",
        "rmse = round(np.sqrt(mean_squared_error(y_test, y_hat, squared=False)),3)##rmse calculation\n",
        "print(\"RMSE: %.3f\" % rmse)\n",
        "print('\\n')\n",
        "\n",
        "from sklearn.metrics import mean_absolute_percentage_error\n",
        "mape = round(mean_absolute_percentage_error(y_test, y_hat),3)##mape calculation\n",
        "print(\"MAPE: %.3f\" % mape)\n",
        "\n",
        "\n",
        "end = time.time()\n",
        "print('\\nExicution time',round((end - start)/60,3),'Minutes')"
      ],
      "metadata": {
        "colab": {
          "base_uri": "https://localhost:8080/"
        },
        "id": "X8tv1o8kj4Dr",
        "outputId": "0428b46b-7a5f-41b7-d704-7b16082676f5"
      },
      "execution_count": 14,
      "outputs": [
        {
          "output_type": "stream",
          "name": "stdout",
          "text": [
            "auto-sklearn results:\n",
            "  Dataset name: 452c5aa2-7ab4-11ec-8093-0242ac1c0002\n",
            "  Metric: r2\n",
            "  Best validation score: 0.801546\n",
            "  Number of target algorithm runs: 51\n",
            "  Number of successful target algorithm runs: 28\n",
            "  Number of crashed target algorithm runs: 1\n",
            "  Number of target algorithms that exceeded the time limit: 18\n",
            "  Number of target algorithms that exceeded the memory limit: 4\n",
            "\n",
            "RMSE: 24.170\n",
            "\n",
            "\n",
            "MAPE: 1.363\n",
            "\n",
            "Exicution time 5.137 Minutes\n"
          ]
        }
      ]
    },
    {
      "cell_type": "code",
      "source": [
        "model.performance_over_time_.plot(\n",
        "    x='Timestamp',\n",
        "    kind='line',\n",
        "    legend=True,\n",
        "    title='Auto-sklearn accuracy over time',\n",
        "    grid=True,\n",
        ")\n",
        "plt.show()"
      ],
      "metadata": {
        "id": "U9ppX-FPkrWB"
      },
      "execution_count": null,
      "outputs": []
    },
    {
      "cell_type": "code",
      "source": [
        "model.show_models()"
      ],
      "metadata": {
        "id": "JDyL1T3blE2Z"
      },
      "execution_count": null,
      "outputs": []
    },
    {
      "cell_type": "code",
      "source": [
        "model.leaderboard()"
      ],
      "metadata": {
        "colab": {
          "base_uri": "https://localhost:8080/",
          "height": 269
        },
        "id": "YJmvwuBPlT4Q",
        "outputId": "28b55f59-a097-4032-ab93-ccd0979bd034"
      },
      "execution_count": 18,
      "outputs": [
        {
          "output_type": "execute_result",
          "data": {
            "text/html": [
              "\n",
              "  <div id=\"df-b6dde8b0-16c5-4538-baaf-def403f7d808\">\n",
              "    <div class=\"colab-df-container\">\n",
              "      <div>\n",
              "<style scoped>\n",
              "    .dataframe tbody tr th:only-of-type {\n",
              "        vertical-align: middle;\n",
              "    }\n",
              "\n",
              "    .dataframe tbody tr th {\n",
              "        vertical-align: top;\n",
              "    }\n",
              "\n",
              "    .dataframe thead th {\n",
              "        text-align: right;\n",
              "    }\n",
              "</style>\n",
              "<table border=\"1\" class=\"dataframe\">\n",
              "  <thead>\n",
              "    <tr style=\"text-align: right;\">\n",
              "      <th></th>\n",
              "      <th>rank</th>\n",
              "      <th>ensemble_weight</th>\n",
              "      <th>type</th>\n",
              "      <th>cost</th>\n",
              "      <th>duration</th>\n",
              "    </tr>\n",
              "    <tr>\n",
              "      <th>model_id</th>\n",
              "      <th></th>\n",
              "      <th></th>\n",
              "      <th></th>\n",
              "      <th></th>\n",
              "      <th></th>\n",
              "    </tr>\n",
              "  </thead>\n",
              "  <tbody>\n",
              "    <tr>\n",
              "      <th>22</th>\n",
              "      <td>1</td>\n",
              "      <td>0.22</td>\n",
              "      <td>gradient_boosting</td>\n",
              "      <td>0.198454</td>\n",
              "      <td>14.012110</td>\n",
              "    </tr>\n",
              "    <tr>\n",
              "      <th>11</th>\n",
              "      <td>2</td>\n",
              "      <td>0.14</td>\n",
              "      <td>gradient_boosting</td>\n",
              "      <td>0.199107</td>\n",
              "      <td>20.361159</td>\n",
              "    </tr>\n",
              "    <tr>\n",
              "      <th>8</th>\n",
              "      <td>3</td>\n",
              "      <td>0.24</td>\n",
              "      <td>k_nearest_neighbors</td>\n",
              "      <td>0.213537</td>\n",
              "      <td>9.783891</td>\n",
              "    </tr>\n",
              "    <tr>\n",
              "      <th>52</th>\n",
              "      <td>4</td>\n",
              "      <td>0.10</td>\n",
              "      <td>k_nearest_neighbors</td>\n",
              "      <td>0.237683</td>\n",
              "      <td>3.830175</td>\n",
              "    </tr>\n",
              "    <tr>\n",
              "      <th>42</th>\n",
              "      <td>5</td>\n",
              "      <td>0.18</td>\n",
              "      <td>decision_tree</td>\n",
              "      <td>0.274514</td>\n",
              "      <td>5.977054</td>\n",
              "    </tr>\n",
              "    <tr>\n",
              "      <th>49</th>\n",
              "      <td>6</td>\n",
              "      <td>0.12</td>\n",
              "      <td>ard_regression</td>\n",
              "      <td>0.359483</td>\n",
              "      <td>5.047749</td>\n",
              "    </tr>\n",
              "  </tbody>\n",
              "</table>\n",
              "</div>\n",
              "      <button class=\"colab-df-convert\" onclick=\"convertToInteractive('df-b6dde8b0-16c5-4538-baaf-def403f7d808')\"\n",
              "              title=\"Convert this dataframe to an interactive table.\"\n",
              "              style=\"display:none;\">\n",
              "        \n",
              "  <svg xmlns=\"http://www.w3.org/2000/svg\" height=\"24px\"viewBox=\"0 0 24 24\"\n",
              "       width=\"24px\">\n",
              "    <path d=\"M0 0h24v24H0V0z\" fill=\"none\"/>\n",
              "    <path d=\"M18.56 5.44l.94 2.06.94-2.06 2.06-.94-2.06-.94-.94-2.06-.94 2.06-2.06.94zm-11 1L8.5 8.5l.94-2.06 2.06-.94-2.06-.94L8.5 2.5l-.94 2.06-2.06.94zm10 10l.94 2.06.94-2.06 2.06-.94-2.06-.94-.94-2.06-.94 2.06-2.06.94z\"/><path d=\"M17.41 7.96l-1.37-1.37c-.4-.4-.92-.59-1.43-.59-.52 0-1.04.2-1.43.59L10.3 9.45l-7.72 7.72c-.78.78-.78 2.05 0 2.83L4 21.41c.39.39.9.59 1.41.59.51 0 1.02-.2 1.41-.59l7.78-7.78 2.81-2.81c.8-.78.8-2.07 0-2.86zM5.41 20L4 18.59l7.72-7.72 1.47 1.35L5.41 20z\"/>\n",
              "  </svg>\n",
              "      </button>\n",
              "      \n",
              "  <style>\n",
              "    .colab-df-container {\n",
              "      display:flex;\n",
              "      flex-wrap:wrap;\n",
              "      gap: 12px;\n",
              "    }\n",
              "\n",
              "    .colab-df-convert {\n",
              "      background-color: #E8F0FE;\n",
              "      border: none;\n",
              "      border-radius: 50%;\n",
              "      cursor: pointer;\n",
              "      display: none;\n",
              "      fill: #1967D2;\n",
              "      height: 32px;\n",
              "      padding: 0 0 0 0;\n",
              "      width: 32px;\n",
              "    }\n",
              "\n",
              "    .colab-df-convert:hover {\n",
              "      background-color: #E2EBFA;\n",
              "      box-shadow: 0px 1px 2px rgba(60, 64, 67, 0.3), 0px 1px 3px 1px rgba(60, 64, 67, 0.15);\n",
              "      fill: #174EA6;\n",
              "    }\n",
              "\n",
              "    [theme=dark] .colab-df-convert {\n",
              "      background-color: #3B4455;\n",
              "      fill: #D2E3FC;\n",
              "    }\n",
              "\n",
              "    [theme=dark] .colab-df-convert:hover {\n",
              "      background-color: #434B5C;\n",
              "      box-shadow: 0px 1px 3px 1px rgba(0, 0, 0, 0.15);\n",
              "      filter: drop-shadow(0px 1px 2px rgba(0, 0, 0, 0.3));\n",
              "      fill: #FFFFFF;\n",
              "    }\n",
              "  </style>\n",
              "\n",
              "      <script>\n",
              "        const buttonEl =\n",
              "          document.querySelector('#df-b6dde8b0-16c5-4538-baaf-def403f7d808 button.colab-df-convert');\n",
              "        buttonEl.style.display =\n",
              "          google.colab.kernel.accessAllowed ? 'block' : 'none';\n",
              "\n",
              "        async function convertToInteractive(key) {\n",
              "          const element = document.querySelector('#df-b6dde8b0-16c5-4538-baaf-def403f7d808');\n",
              "          const dataTable =\n",
              "            await google.colab.kernel.invokeFunction('convertToInteractive',\n",
              "                                                     [key], {});\n",
              "          if (!dataTable) return;\n",
              "\n",
              "          const docLinkHtml = 'Like what you see? Visit the ' +\n",
              "            '<a target=\"_blank\" href=https://colab.research.google.com/notebooks/data_table.ipynb>data table notebook</a>'\n",
              "            + ' to learn more about interactive tables.';\n",
              "          element.innerHTML = '';\n",
              "          dataTable['output_type'] = 'display_data';\n",
              "          await google.colab.output.renderOutput(dataTable, element);\n",
              "          const docLink = document.createElement('div');\n",
              "          docLink.innerHTML = docLinkHtml;\n",
              "          element.appendChild(docLink);\n",
              "        }\n",
              "      </script>\n",
              "    </div>\n",
              "  </div>\n",
              "  "
            ],
            "text/plain": [
              "          rank  ensemble_weight                 type      cost   duration\n",
              "model_id                                                                 \n",
              "22           1             0.22    gradient_boosting  0.198454  14.012110\n",
              "11           2             0.14    gradient_boosting  0.199107  20.361159\n",
              "8            3             0.24  k_nearest_neighbors  0.213537   9.783891\n",
              "52           4             0.10  k_nearest_neighbors  0.237683   3.830175\n",
              "42           5             0.18        decision_tree  0.274514   5.977054\n",
              "49           6             0.12       ard_regression  0.359483   5.047749"
            ]
          },
          "metadata": {},
          "execution_count": 18
        }
      ]
    },
    {
      "cell_type": "markdown",
      "source": [
        "## XG Boost Hyperparameter Tuning"
      ],
      "metadata": {
        "id": "mfB98fW-mhRb"
      }
    },
    {
      "cell_type": "code",
      "source": [
        "## Hyper Parameter Optimization\n",
        "\n",
        "n_estimators = [100, 500, 900, 1100, 1500]\n",
        "max_depth = [2, 3, 5, 10, 15]\n",
        "booster=['gbtree','gblinear']\n",
        "learning_rate=[0.05,0.1,0.15,0.20]\n",
        "min_child_weight=[1,2,3,4]\n",
        "base_score=[0.25,0.5,0.75,1]\n",
        "\n",
        "# Define the grid of hyperparameters to search\n",
        "hyperparameter_grid = {\n",
        "    'n_estimators': n_estimators,\n",
        "    'max_depth':max_depth,\n",
        "    'learning_rate':learning_rate,\n",
        "    'min_child_weight':min_child_weight,\n",
        "    'booster':booster,\n",
        "    'base_score':base_score\n",
        "    }\n"
      ],
      "metadata": {
        "id": "Z6L5o0cMmaqw"
      },
      "execution_count": 22,
      "outputs": []
    },
    {
      "cell_type": "code",
      "source": [
        "import xgboost\n",
        "regressor=xgboost.XGBRegressor()\n",
        "\n",
        "from sklearn.model_selection import RandomizedSearchCV\n"
      ],
      "metadata": {
        "id": "oxBfBtd1m65V"
      },
      "execution_count": 23,
      "outputs": []
    },
    {
      "cell_type": "code",
      "source": [
        "# Set up the random search with 4-fold cross validation\n",
        "random_cv = RandomizedSearchCV(estimator=regressor,\n",
        "            param_distributions=hyperparameter_grid,\n",
        "            cv=5, n_iter=50,\n",
        "            scoring = 'neg_mean_absolute_error',n_jobs = 4,\n",
        "            verbose = 5, \n",
        "            return_train_score = True,\n",
        "            random_state=42)"
      ],
      "metadata": {
        "id": "9Yglihu2mr_R"
      },
      "execution_count": 24,
      "outputs": []
    },
    {
      "cell_type": "code",
      "source": [
        "import time\n",
        "start = time.time()\n",
        "\n",
        "random_cv.fit(X_train,y_train)\n",
        "\n",
        "end = time.time()\n",
        "print('Exicution time',round((end - start)/60,3),'Minutes')"
      ],
      "metadata": {
        "colab": {
          "base_uri": "https://localhost:8080/"
        },
        "id": "QevVHcKpmjl3",
        "outputId": "4cc83c41-c902-442b-8d84-d4ec79a3a3d3"
      },
      "execution_count": null,
      "outputs": [
        {
          "output_type": "stream",
          "name": "stdout",
          "text": [
            "Fitting 5 folds for each of 50 candidates, totalling 250 fits\n"
          ]
        }
      ]
    },
    {
      "cell_type": "code",
      "source": [
        "random_cv.best_estimator_\n"
      ],
      "metadata": {
        "id": "Eb_rVshRm-b_"
      },
      "execution_count": null,
      "outputs": []
    },
    {
      "cell_type": "markdown",
      "source": [
        "## XGB testing with optimized parameters"
      ],
      "metadata": {
        "id": "hPFhxDR9nIpv"
      }
    },
    {
      "cell_type": "code",
      "source": [
        "import time\n",
        "start = time.time()\n",
        "\n",
        "xgbr=xgboost.XGBRegressor(base_score=0.75, max_depth=5, min_child_weight=2,\n",
        "                               n_estimators=1100)\n",
        "xgbr.fit(X_train, y_train)\n",
        "print('XGB - Regression score:',xgbr.score(X, y))\n",
        "\n",
        "end = time.time()\n",
        "print('\\nExicution time',round((end - start)/60,3),'Minutes')"
      ],
      "metadata": {
        "id": "IaCa9OPcnE9E"
      },
      "execution_count": null,
      "outputs": []
    },
    {
      "cell_type": "code",
      "source": [
        "#testing\n",
        "y_hat = xgbr.predict(X_test)\n",
        "\n",
        "from sklearn.metrics import mean_squared_error\n",
        "\n",
        "rmse = round(np.sqrt(mean_squared_error(y_test, y_hat, squared=False)),3)##rmse calculation\n",
        "print(\"RMSE: %.3f\" % rmse)\n",
        "print('\\n')\n",
        "from sklearn.metrics import mean_absolute_percentage_error\n",
        "mape = round(mean_absolute_percentage_error(y_test, y_hat),3)##mape calculation\n",
        "print(\"MAPE: %.3f\" % mape)"
      ],
      "metadata": {
        "id": "f8poak0XnL6D"
      },
      "execution_count": null,
      "outputs": []
    },
    {
      "cell_type": "markdown",
      "source": [
        "## Forecasting"
      ],
      "metadata": {
        "id": "NPuVKREznoaq"
      }
    },
    {
      "cell_type": "code",
      "source": [
        "#Training with Whole data\n",
        "import time\n",
        "start = time.time()\n",
        "\n",
        "xgbr=xgboost.XGBRegressor(base_score=0.75, max_depth=5, min_child_weight=2,\n",
        "                               n_estimators=1100)\n",
        "xgbr.fit(X, y)\n",
        "print('XGB - Regression score:',xgbr.score(X, y))\n",
        "\n",
        "end = time.time()\n",
        "print('\\nExicution time',round((end - start)/60,3),'Minutes')"
      ],
      "metadata": {
        "id": "BHhu4Lk6npo7"
      },
      "execution_count": null,
      "outputs": []
    },
    {
      "cell_type": "code",
      "source": [
        "def forecat(X,p):\n",
        "  f = X[-(X['SKU'].nunique()):].reset_index(drop=bool)\n",
        "  \n",
        "  for i in range(len(f)):\n",
        "    if f['month'][i]==12:\n",
        "      f['year'][i] = f['year'][i]+1\n",
        "      f['month'][i] = 1\n",
        "    elif f['month'][i]<12:\n",
        "      f['month'][i] = f['month'][i]+1\n",
        "    \n",
        "  f['lag6'] = f['lag5']\n",
        "  f['lag5'] = f['lag4']\n",
        "  f['lag4'] = f['lag3']\n",
        "  f['lag3'] = f['lag2']\n",
        "  f['lag2'] = f['lag1']\n",
        "  f['lag1'] = p[0]\n",
        "  return f"
      ],
      "metadata": {
        "id": "h3BF-ncAnqiD"
      },
      "execution_count": null,
      "outputs": []
    },
    {
      "cell_type": "code",
      "source": [
        "#1month forecasting\n",
        "p = pd.DataFrame(xgbr.predict(X[-(X['SKU'].nunique()):]))\n",
        "p"
      ],
      "metadata": {
        "id": "Gjb557bon1wM"
      },
      "execution_count": null,
      "outputs": []
    },
    {
      "cell_type": "code",
      "source": [
        "#features for 1month forecast\n",
        "f=forecat(X,p)\n",
        "f"
      ],
      "metadata": {
        "id": "f-j76NM4n954"
      },
      "execution_count": null,
      "outputs": []
    },
    {
      "cell_type": "code",
      "source": [
        "#2month forecasting\n",
        "p = pd.DataFrame(xgbr.predict(f))\n",
        "p"
      ],
      "metadata": {
        "id": "icJul_lFoOrj"
      },
      "execution_count": null,
      "outputs": []
    },
    {
      "cell_type": "code",
      "source": [
        "#features for 1month forecast\n",
        "f=forecat(f,p)\n",
        "f"
      ],
      "metadata": {
        "id": "Iyckwr44oh5Q"
      },
      "execution_count": null,
      "outputs": []
    },
    {
      "cell_type": "code",
      "source": [
        "#2month forecasting\n",
        "p = pd.DataFrame(xgbr.predict(f))\n",
        "p"
      ],
      "metadata": {
        "id": "X5lV07O_ooD1"
      },
      "execution_count": null,
      "outputs": []
    },
    {
      "cell_type": "code",
      "source": [
        "#3,4,...monthns to forecast\n",
        "f=forecat(f,p)\n",
        "p = pd.DataFrame(xgbr.predict(f))\n",
        "p"
      ],
      "metadata": {
        "id": "R2BTIwxIoxFY"
      },
      "execution_count": null,
      "outputs": []
    },
    {
      "cell_type": "markdown",
      "source": [
        "## Custamized forecasting"
      ],
      "metadata": {
        "id": "M_qtoXqAo4_7"
      }
    },
    {
      "cell_type": "code",
      "source": [
        "month=10#Number of months to do forecasting\n",
        "\n",
        "p = pd.DataFrame(xgbr.predict(X[-(X['SKU'].nunique()):]))\n",
        "#for future 1month forecast\n",
        "f=forecat(X,p)\n",
        "\n",
        "n=0\n",
        "for i in range(1,month):\n",
        "  f=forecat(f,p)\n",
        "  p = pd.DataFrame(xgbr.predict(f))\n",
        "  if n==0:\n",
        "    forecasted_results = pd.DataFrame(xgbr.predict(f))\n",
        "  else:\n",
        "    forecasted_results = pd.concat([forecasted_results,p],axis=1)\n",
        "  n+=1\n",
        "\n",
        "forecasted_results = round(forecasted_results)\n",
        "forecasted_results['SKU'] = f['SKU']\n",
        "forecasted_results['SKU'] = le.inverse_transform(forecasted_results['SKU'])\n"
      ],
      "metadata": {
        "id": "EUVarbSPo3Tl"
      },
      "execution_count": null,
      "outputs": []
    },
    {
      "cell_type": "code",
      "source": [
        "#forecasted_results.columns = ['m1','m2','m3','m4','m5','m6','m7','m8','m9','SKU']"
      ],
      "metadata": {
        "id": "dinBMv1frNsp"
      },
      "execution_count": null,
      "outputs": []
    },
    {
      "cell_type": "code",
      "source": [
        "forecasted_results"
      ],
      "metadata": {
        "id": "eEY4WBISpR6S"
      },
      "execution_count": null,
      "outputs": []
    }
  ]
}