{
  "nbformat": 4,
  "nbformat_minor": 0,
  "metadata": {
    "colab": {
      "name": "2.0.ipynb",
      "provenance": [],
      "mount_file_id": "1qy3mnYpVX5uySC0RITw1m2cNt3wrld8M",
      "authorship_tag": "ABX9TyObh8iYZJdEtBve/9xYPm0I",
      "include_colab_link": true
    },
    "kernelspec": {
      "name": "python3",
      "display_name": "Python 3"
    },
    "language_info": {
      "name": "python"
    }
  },
  "cells": [
    {
      "cell_type": "markdown",
      "metadata": {
        "id": "view-in-github",
        "colab_type": "text"
      },
      "source": [
        "<a href=\"https://colab.research.google.com/github/vamsikrishna00466/time_series/blob/main/Time%20series%20to%20ML(26-12-2021).ipynb\" target=\"_parent\"><img src=\"https://colab.research.google.com/assets/colab-badge.svg\" alt=\"Open In Colab\"/></a>"
      ]
    },
    {
      "cell_type": "code",
      "execution_count": 23,
      "metadata": {
        "id": "3LTt2_So9wzT"
      },
      "outputs": [],
      "source": [
        "#importing pandas and warnings\n",
        "import pandas as pd\n",
        "import warnings\n",
        "warnings.filterwarnings('ignore')\n",
        "\n",
        "pd.set_option('display.max_columns', 150)\n",
        "\n",
        "#mean squred error\n",
        "import numpy as np\n",
        "from sklearn.metrics import mean_squared_error\n",
        "\n",
        "from sklearn.metrics import mean_absolute_percentage_error\n",
        "\n",
        "from sklearn.model_selection import train_test_split\n"
      ]
    },
    {
      "cell_type": "code",
      "source": [
        "#Initial Preprocessed data\n",
        "df = pd.read_csv('/content/drive/MyDrive/SCA Projects/Forecasting /Processed_data1.csv')"
      ],
      "metadata": {
        "id": "xvYB2_7c910d"
      },
      "execution_count": 2,
      "outputs": []
    },
    {
      "cell_type": "code",
      "source": [
        "df"
      ],
      "metadata": {
        "id": "_Ggdza4BYqdw"
      },
      "execution_count": null,
      "outputs": []
    },
    {
      "cell_type": "markdown",
      "source": [
        "# Sku wise Forecasting -- VAR(Vector Auto Regression)"
      ],
      "metadata": {
        "id": "kY9oSwuEC_33"
      }
    },
    {
      "cell_type": "code",
      "source": [
        "from statsmodels.tsa.vector_ar.var_model import VAR"
      ],
      "metadata": {
        "id": "ii31He_HZBF4"
      },
      "execution_count": 9,
      "outputs": []
    },
    {
      "cell_type": "code",
      "source": [
        "df1 = df.groupby(by=['Month','Part No.'])['demand'].sum().reset_index()\n",
        "\n",
        "##converting categories into columns\n",
        "df2 = df1.pivot(index='Month', columns='Part No.', values='demand')"
      ],
      "metadata": {
        "id": "Nql3TL2d-mSG"
      },
      "execution_count": 4,
      "outputs": []
    },
    {
      "cell_type": "code",
      "source": [
        "#creating the train and validation set\n",
        "train = df2[:int(0.8*(len(df2)))]\n",
        "valid = df2[int(0.8*(len(df2))):]\n",
        "\n",
        "#fit the model\n",
        "\n",
        "model = VAR(endog=train)\n",
        "model_fit = model.fit()\n",
        "\n",
        "# make prediction on validation\n",
        "prediction = model_fit.forecast(model_fit.y, steps=len(valid))"
      ],
      "metadata": {
        "id": "XCfeZ7Xs_TLM"
      },
      "execution_count": null,
      "outputs": []
    },
    {
      "cell_type": "code",
      "source": [
        "#predictions into data frame\n",
        "df_pred = pd.DataFrame(prediction, columns = df2.columns.to_list())\n"
      ],
      "metadata": {
        "id": "FAF4EoTfBp2T"
      },
      "execution_count": 23,
      "outputs": []
    },
    {
      "cell_type": "code",
      "source": [
        "df_pred"
      ],
      "metadata": {
        "id": "jP3fAmwCGqHT"
      },
      "execution_count": null,
      "outputs": []
    },
    {
      "cell_type": "code",
      "source": [
        "error_mape = pd.DataFrame({})\n",
        "for i in valid.columns.to_list():\n",
        "  er = round(mean_absolute_percentage_error(valid[i], df_pred[i]),3)\n",
        "  rmse = round(np.sqrt(mean_squared_error(valid[i], df_pred[i], squared=False)),3)\n",
        "  error_mape=error_mape.append({'Part No.':i,\n",
        "                                'mape':er,\n",
        "                                'rmse':rmse},ignore_index=True)\n",
        "error_mape['mape_int'] = round(error_mape['mape']).astype(int)"
      ],
      "metadata": {
        "id": "qaST7CS4ADuv"
      },
      "execution_count": 43,
      "outputs": []
    },
    {
      "cell_type": "code",
      "source": [
        "error_mape.sort_values(by='mape_int',ascending=False)"
      ],
      "metadata": {
        "id": "yRPbNAY9Cqt7"
      },
      "execution_count": null,
      "outputs": []
    },
    {
      "cell_type": "markdown",
      "source": [
        "# categorize wise Sales forecasting --VAR"
      ],
      "metadata": {
        "id": "tVxV2ds9Iage"
      }
    },
    {
      "cell_type": "code",
      "source": [
        "from statsmodels.tsa.vector_ar.var_model import VAR"
      ],
      "metadata": {
        "id": "vybOwmwTaTTo"
      },
      "execution_count": 3,
      "outputs": []
    },
    {
      "cell_type": "code",
      "source": [
        "df['sales'] = df['demand']*df['Unit Price']\n",
        "\n",
        "df1 = df.groupby(by=['Month','Category'])['sales'].sum().reset_index()"
      ],
      "metadata": {
        "id": "EjM2GMjuI31a"
      },
      "execution_count": 4,
      "outputs": []
    },
    {
      "cell_type": "code",
      "source": [
        "df1.tail()"
      ],
      "metadata": {
        "id": "5lcqKrFpI1HF"
      },
      "execution_count": null,
      "outputs": []
    },
    {
      "cell_type": "code",
      "source": [
        "##converting categories into columns\n",
        "df2 = df1.pivot(index='Month', columns='Category', values='sales')\n",
        "#resetting default index\n",
        "df2 = df2.rename_axis(None).rename_axis(None, axis=1)"
      ],
      "metadata": {
        "id": "4PQOQnTHJi8-"
      },
      "execution_count": 5,
      "outputs": []
    },
    {
      "cell_type": "code",
      "source": [
        "df2.head()"
      ],
      "metadata": {
        "id": "c7EZzoUeJpNl"
      },
      "execution_count": null,
      "outputs": []
    },
    {
      "cell_type": "code",
      "source": [
        "#creating the train and validation set\n",
        "train = df2[:int(0.8*(len(df2)))]\n",
        "valid = df2[int(0.8*(len(df2))):]\n",
        "\n"
      ],
      "metadata": {
        "id": "TcrlRAsVavP4"
      },
      "execution_count": 6,
      "outputs": []
    },
    {
      "cell_type": "code",
      "source": [
        "#fit the model\n",
        "from statsmodels.tsa.vector_ar.var_model import VAR\n",
        "\n",
        "model = VAR(endog=train)\n",
        "model_fit = model.fit()"
      ],
      "metadata": {
        "id": "YVR023wWawkj"
      },
      "execution_count": null,
      "outputs": []
    },
    {
      "cell_type": "code",
      "source": [
        "# make prediction on validation\n",
        "model_fit.summary()"
      ],
      "metadata": {
        "id": "LDCOZW0aa1bJ"
      },
      "execution_count": null,
      "outputs": []
    },
    {
      "cell_type": "code",
      "source": [
        "# make prediction on validation\n",
        "prediction = model_fit.forecast(model_fit.y, steps=len(valid))"
      ],
      "metadata": {
        "id": "xhIWONOGdMtx"
      },
      "execution_count": 11,
      "outputs": []
    },
    {
      "cell_type": "code",
      "source": [
        "df_pred = pd.DataFrame(prediction, columns = df2.columns.to_list())\n",
        "\n",
        "from sklearn.metrics import mean_absolute_percentage_error\n",
        "error_mape = pd.DataFrame({})\n",
        "for i in valid.columns.to_list():\n",
        "  er = round(mean_absolute_percentage_error(valid[i], df_pred[i]),3)##mape calculation\n",
        "  rmse = round(np.sqrt(mean_squared_error(valid[i], df_pred[i], squared=False)),3)##rmse calculation\n",
        "  error_mape=error_mape.append({'Part No.':i,\n",
        "                                'mape':er,\n",
        "                                'rmse':rmse},ignore_index=True)\n",
        "\n",
        "error_mape"
      ],
      "metadata": {
        "id": "pBY3ZwI0I2Yu"
      },
      "execution_count": null,
      "outputs": []
    },
    {
      "cell_type": "code",
      "source": [
        "valid.plot()\n",
        "df_pred.plot()"
      ],
      "metadata": {
        "id": "wGTVY-qkQL5j"
      },
      "execution_count": null,
      "outputs": []
    },
    {
      "cell_type": "code",
      "source": [
        "## forecasting future\n",
        "months_to_forecast=20\n",
        "forcast_future = model_fit.forecast(model_fit.y, steps=months_to_forecast)\n",
        "forcast_future1 = pd.DataFrame(prediction, columns = df2.columns.to_list())\n",
        "forcast_future1.plot()"
      ],
      "metadata": {
        "id": "n5vP-puIKLyI"
      },
      "execution_count": null,
      "outputs": []
    },
    {
      "cell_type": "markdown",
      "source": [
        "# Time series to Machine learning"
      ],
      "metadata": {
        "id": "ZVu2gNkXjJwj"
      }
    },
    {
      "cell_type": "code",
      "source": [
        "def data_preparing_Time_series_to_supervise_ML(df):\n",
        "  #creating sales column\n",
        "  df['sales'] = df['demand']*df['Unit Price']\n",
        "  df1 = df.groupby(by=['Month','Category'])['sales'].sum().reset_index()\n",
        "  \n",
        "  ##converting categories into columns\n",
        "  df2 = df1.pivot(index='Month', columns='Category', values='sales')\n",
        "  #resetting default index\n",
        "  df2 = df2.rename_axis(None).rename_axis(None, axis=1)\n",
        "  col = df2.columns.to_list()\n",
        "  df3 = df2.copy()\n",
        "  df3 = round(df3).astype(int)\n",
        "  #t-1lag\n",
        "  \n",
        "  df3['Kit(t-1)'] = df3['Kit'].shift(1)\n",
        "  df3['Kit-Child Part(t-1)'] = df3['Kit-Child Part'].shift(1)\n",
        "  df3['Obsolete(t-1)'] = df3['Obsolete'].shift(1)\n",
        "  df3['Regular(t-1)'] = df3['Regular'].shift(1)\n",
        "  #t-2 lagdf3['Kit(t-2)'] = df3['Kit'].shift(2)\n",
        "  df3['Kit-Child Part(t-2)'] = df3['Kit-Child Part'].shift(2)\n",
        "  df3['Obsolete(t-2)'] = df3['Obsolete'].shift(2)\n",
        "  df3['Regular(t-2)'] = df3['Regular'].shift(2)\n",
        "  #t-3 lag\n",
        "  df3['Kit(t-3)'] = df3['Kit'].shift(3)\n",
        "  df3['Kit-Child Part(t-3)'] = df3['Kit-Child Part'].shift(3)\n",
        "  df3['Obsolete(t-3)'] = df3['Obsolete'].shift(3)\n",
        "  df3['Regular(t-3)'] = df3['Regular'].shift(3)\n",
        "  \n",
        "  df3.dropna(inplace=True)\n",
        "  \n",
        "  df3 = df3.reset_index()\n",
        "  df3['index']=pd.to_datetime(df3['index'])\n",
        "  df3['month'] = df3['index'].dt.month\n",
        "  df3['year'] = df3['index'].dt.year\n",
        "  \n",
        "  del df3['index']\n",
        "  return df3, col"
      ],
      "metadata": {
        "id": "61lT_ihjjOST"
      },
      "execution_count": null,
      "outputs": []
    },
    {
      "cell_type": "code",
      "source": [
        "df_ML, col = data_preparing_Time_series_to_supervise_ML(df)"
      ],
      "metadata": {
        "id": "x2vqqL5mjnSS"
      },
      "execution_count": null,
      "outputs": []
    },
    {
      "cell_type": "markdown",
      "source": [
        "# categorie Wise Sales forecasting -- With Linear Regression"
      ],
      "metadata": {
        "id": "j4DE5fkpTfAT"
      }
    },
    {
      "cell_type": "code",
      "source": [
        "from sklearn.linear_model import LinearRegression"
      ],
      "metadata": {
        "id": "_gWwIoatV4nw"
      },
      "execution_count": 17,
      "outputs": []
    },
    {
      "cell_type": "code",
      "source": [
        "def model_perfamance(df,i='Kit'):\n",
        "  X_train, X_test, y_train, y_test = train_test_split(df.loc[:, df.columns != i], df[i], test_size=0.20, random_state=42)\n",
        "  model = LinearRegression()\n",
        "  model.fit(X_train, y_train)\n",
        "  y_train_predict = model.predict(X_train)\n",
        "  y_test_predict = model.predict(X_test)\n",
        "  print(f'MAPE Error of {i}:=--',mean_absolute_percentage_error(y_test,y_test_predict))\n",
        "  return y_test_predict,y_test"
      ],
      "metadata": {
        "id": "JbSc_luCU2kt"
      },
      "execution_count": 38,
      "outputs": []
    },
    {
      "cell_type": "code",
      "source": [
        "error_mape = pd.DataFrame({})\n",
        "print('********************Forecasting error with Linear regression********************')\n",
        "for i in col:\n",
        "  y_test_predict,y_test = model_perfamance(df_ML,i=i)\n",
        "  er = mean_absolute_percentage_error(y_test,y_test_predict)##mape calculation\n",
        "  rmse = round(np.sqrt(mean_squared_error(y_test,y_test_predict, squared=False)),3)##rmse calculation\n",
        "  error_mape=error_mape.append({'Part No.':i,\n",
        "                                'mape':er,\n",
        "                                'rmse':rmse},ignore_index=True)\n",
        "\n",
        "round(error_mape,3)"
      ],
      "metadata": {
        "id": "KlmjROIXTf5E"
      },
      "execution_count": null,
      "outputs": []
    },
    {
      "cell_type": "markdown",
      "source": [
        "# categorie Wise Sales forecasting -- With Decission Tree"
      ],
      "metadata": {
        "id": "kihfUTgWhggV"
      }
    },
    {
      "cell_type": "code",
      "source": [
        "from sklearn.tree import DecisionTreeRegressor\n"
      ],
      "metadata": {
        "id": "_MU8Db91hlbp"
      },
      "execution_count": 49,
      "outputs": []
    },
    {
      "cell_type": "code",
      "source": [
        "def model_perfamance(df,i='Kit'):\n",
        "  X_train, X_test, y_train, y_test = train_test_split(df.loc[:, df.columns != i], df[i], test_size=0.20, random_state=42)\n",
        "  model = DecisionTreeRegressor(max_depth=2)\n",
        "  model.fit(X_train, y_train)\n",
        "  y_train_predict = model.predict(X_train)\n",
        "  y_test_predict = model.predict(X_test)\n",
        "  print(f'MAPE Error of {i}:=--',mean_absolute_percentage_error(y_test,y_test_predict))\n",
        "  return y_test_predict,y_test"
      ],
      "metadata": {
        "id": "lSmWZ6HVhsB5"
      },
      "execution_count": 56,
      "outputs": []
    },
    {
      "cell_type": "code",
      "source": [
        "error_mape = pd.DataFrame({})\n",
        "print('********************Forecasting error with RandomForestRegressor********************')\n",
        "for i in col:\n",
        "  y_test_predict,y_test = model_perfamance(df_ML,i=i)\n",
        "  er = mean_absolute_percentage_error(y_test,y_test_predict)##mape calculation\n",
        "  rmse = round(np.sqrt(mean_squared_error(y_test,y_test_predict, squared=False)),3)##rmse calculation\n",
        "  error_mape=error_mape.append({'Part No.':i,\n",
        "                                'mape':er,\n",
        "                                'rmse':rmse},ignore_index=True)\n",
        "\n",
        "round(error_mape,3)"
      ],
      "metadata": {
        "id": "rjZP80xhh63w"
      },
      "execution_count": null,
      "outputs": []
    },
    {
      "cell_type": "markdown",
      "source": [
        "# categorie Wise Sales forecasting -- With Random Forest"
      ],
      "metadata": {
        "id": "v-ec5_xMH-87"
      }
    },
    {
      "cell_type": "code",
      "source": [
        "from sklearn.ensemble import RandomForestRegressor\n"
      ],
      "metadata": {
        "id": "vJ4R9PcBSsLe"
      },
      "execution_count": 33,
      "outputs": []
    },
    {
      "cell_type": "code",
      "source": [
        "def model_perfamance(df,i='Kit'):\n",
        "  X_train, X_test, y_train, y_test = train_test_split(df.loc[:, df.columns != i], df[i], test_size=0.20, random_state=42)\n",
        "  model = RandomForestRegressor(max_depth=2, random_state=0)\n",
        "  model.fit(X_train, y_train)\n",
        "  y_train_predict = model.predict(X_train)\n",
        "  y_test_predict = model.predict(X_test)\n",
        "  print(f'MAPE Error of {i}:=--',mean_absolute_percentage_error(y_test,y_test_predict))\n",
        "  return y_test_predict,y_test"
      ],
      "metadata": {
        "id": "dxuZdMu3Jw1p"
      },
      "execution_count": 54,
      "outputs": []
    },
    {
      "cell_type": "code",
      "source": [
        "error_mape = pd.DataFrame({})\n",
        "print('********************Forecasting error with RandomForestRegressor********************')\n",
        "for i in col:\n",
        "  y_test_predict,y_test = model_perfamance(df_ML,i=i)\n",
        "  er = mean_absolute_percentage_error(y_test,y_test_predict)##mape calculation\n",
        "  rmse = round(np.sqrt(mean_squared_error(y_test,y_test_predict, squared=False)),3)##rmse calculation\n",
        "  error_mape=error_mape.append({'Part No.':i,\n",
        "                                'mape':er,\n",
        "                                'rmse':rmse},ignore_index=True)\n",
        "\n",
        "round(error_mape,3)"
      ],
      "metadata": {
        "id": "nYAirWnEWri7"
      },
      "execution_count": null,
      "outputs": []
    },
    {
      "cell_type": "markdown",
      "source": [
        "# categorie Wise Sales forecasting -- With XG Boost"
      ],
      "metadata": {
        "id": "OZ29G0biXkrs"
      }
    },
    {
      "cell_type": "code",
      "source": [
        "from xgboost import XGBRegressor\n"
      ],
      "metadata": {
        "id": "I7R9SYgVYPBp"
      },
      "execution_count": 46,
      "outputs": []
    },
    {
      "cell_type": "code",
      "source": [
        "def model_perfamance(df,i='Kit'):\n",
        "  X_train, X_test, y_train, y_test = train_test_split(df.loc[:, df.columns != i], df[i], test_size=0.20, random_state=42)\n",
        "  model = XGBRegressor(n_estimators=10, max_depth=20, verbosity=2)#--Update required ML algorithm\n",
        "  model.fit(X_train, y_train)\n",
        "  y_train_predict = model.predict(X_train)\n",
        "  y_test_predict = model.predict(X_test)\n",
        "  print(f'MAPE Error of {i}:=--',mean_absolute_percentage_error(y_test,y_test_predict))\n",
        "  return y_test_predict,y_test"
      ],
      "metadata": {
        "id": "To91wvJnW5mM"
      },
      "execution_count": 47,
      "outputs": []
    },
    {
      "cell_type": "code",
      "source": [
        "error_mape = pd.DataFrame({})\n",
        "print('********************Forecasting error with XGBRegressor********************')\n",
        "for i in col:\n",
        "  y_test_predict,y_test = model_perfamance(df_ML,i=i)\n",
        "  er = mean_absolute_percentage_error(y_test,y_test_predict)##mape calculation\n",
        "  rmse = round(np.sqrt(mean_squared_error(y_test,y_test_predict, squared=False)),3)##rmse calculation\n",
        "  error_mape=error_mape.append({'Part No.':i,\n",
        "                                'mape':er,\n",
        "                                'rmse':rmse},ignore_index=True)\n",
        "\n",
        "round(error_mape,3)"
      ],
      "metadata": {
        "id": "BCcV7ag7W7be"
      },
      "execution_count": null,
      "outputs": []
    },
    {
      "cell_type": "markdown",
      "source": [
        "# categorie Wise Sales forecasting -- With Ada Boost"
      ],
      "metadata": {
        "id": "xtxfGkOQisLx"
      }
    },
    {
      "cell_type": "code",
      "source": [
        "from sklearn.ensemble import AdaBoostRegressor\n"
      ],
      "metadata": {
        "id": "J0LzvaJRitbw"
      },
      "execution_count": 58,
      "outputs": []
    },
    {
      "cell_type": "code",
      "source": [
        "def model_perfamance(df,i='Kit'):\n",
        "  X_train, X_test, y_train, y_test = train_test_split(df.loc[:, df.columns != i], df[i], test_size=0.20, random_state=42)\n",
        "  model = AdaBoostRegressor(random_state=0, n_estimators=100)#--Update required ML algorithm\n",
        "  model.fit(X_train, y_train)\n",
        "  y_train_predict = model.predict(X_train)\n",
        "  y_test_predict = model.predict(X_test)\n",
        "  print(f'MAPE Error of {i}:=--',mean_absolute_percentage_error(y_test,y_test_predict))\n",
        "  return y_test_predict,y_test"
      ],
      "metadata": {
        "id": "Kl0L5UjMi1o4"
      },
      "execution_count": 59,
      "outputs": []
    },
    {
      "cell_type": "code",
      "source": [
        "error_mape = pd.DataFrame({})\n",
        "print('********************Forecasting error with AdaBoostRegressor********************')\n",
        "for i in col:\n",
        "  y_test_predict,y_test = model_perfamance(df_ML,i=i)\n",
        "  er = mean_absolute_percentage_error(y_test,y_test_predict)##mape calculation\n",
        "  rmse = round(np.sqrt(mean_squared_error(y_test,y_test_predict, squared=False)),3)##rmse calculation\n",
        "  error_mape=error_mape.append({'Part No.':i,\n",
        "                                'mape':er,\n",
        "                                'rmse':rmse},ignore_index=True)\n",
        "\n",
        "round(error_mape,3)"
      ],
      "metadata": {
        "id": "SBqnVF3Ti9jk"
      },
      "execution_count": null,
      "outputs": []
    },
    {
      "cell_type": "markdown",
      "source": [
        "# bin"
      ],
      "metadata": {
        "id": "gLONjN_FLpAV"
      }
    },
    {
      "cell_type": "code",
      "source": [
        "#importing pandas and warnings\n",
        "import pandas as pd\n",
        "import warnings\n",
        "warnings.filterwarnings('ignore')\n",
        "\n",
        "pd.set_option('display.max_columns', 150)\n",
        "\n",
        "import numpy as np\n",
        "from sklearn.model_selection import train_test_split\n",
        "from sklearn.metrics import mean_squared_error\n",
        "from xgboost import XGBRegressor\n",
        "\n",
        "#Initial Preprocessed data\n",
        "df = pd.read_csv('/content/drive/MyDrive/SCA Projects/Forecasting /Processed_data1.csv')"
      ],
      "metadata": {
        "id": "wesmoIv_H1Jr"
      },
      "execution_count": null,
      "outputs": []
    },
    {
      "cell_type": "code",
      "source": [
        "#creating sales column\n",
        "df['sales'] = df['demand']*df['Unit Price']\n",
        "df1 = df.groupby(by=['Month','Category'])['sales'].sum().reset_index()\n",
        "\n",
        "##converting categories into columns\n",
        "df2 = df1.pivot(index='Month', columns='Category', values='sales')\n",
        "#resetting default index\n",
        "df2 = df2.rename_axis(None).rename_axis(None, axis=1)"
      ],
      "metadata": {
        "id": "qm0QfFRlt8zq"
      },
      "execution_count": 144,
      "outputs": []
    },
    {
      "cell_type": "code",
      "source": [
        "df3 = df2.copy()\n",
        "df3 = round(df3).astype(int)"
      ],
      "metadata": {
        "id": "kU-YPRxi5zYD"
      },
      "execution_count": 145,
      "outputs": []
    },
    {
      "cell_type": "code",
      "source": [
        "#t-1lag\n",
        "df3['Kit(t-1)'] = df3['Kit'].shift(-1)\n",
        "df3['Kit-Child Part(t-1)'] = df3['Kit-Child Part'].shift(-1)\n",
        "df3['Obsolete(t-1)'] = df3['Obsolete'].shift(-1)\n",
        "df3['Regular(t-1)'] = df3['Regular'].shift(-1)\n",
        "#t-2 lag\n",
        "df3['Kit(t-2)'] = df3['Kit'].shift(-2)\n",
        "df3['Kit-Child Part(t-2)'] = df3['Kit-Child Part'].shift(-2)\n",
        "df3['Obsolete(t-2)'] = df3['Obsolete'].shift(-2)\n",
        "df3['Regular(t-2)'] = df3['Regular'].shift(-2)\n",
        "#t-3 lag\n",
        "df3['Kit(t-3)'] = df3['Kit'].shift(-3)\n",
        "df3['Kit-Child Part(t-3)'] = df3['Kit-Child Part'].shift(-3)\n",
        "df3['Obsolete(t-3)'] = df3['Obsolete'].shift(-3)\n",
        "df3['Regular(t-3)'] = df3['Regular'].shift(-3)"
      ],
      "metadata": {
        "id": "SBHW3Fcm6MlJ"
      },
      "execution_count": 146,
      "outputs": []
    },
    {
      "cell_type": "code",
      "source": [
        "#t-1lag\n",
        "df3['Kit(t-1)'] = df3['Kit'].shift(1)\n",
        "df3['Kit-Child Part(t-1)'] = df3['Kit-Child Part'].shift(1)\n",
        "df3['Obsolete(t-1)'] = df3['Obsolete'].shift(1)\n",
        "df3['Regular(t-1)'] = df3['Regular'].shift(1)\n",
        "#t-2 lag\n",
        "df3['Kit(t-2)'] = df3['Kit'].shift(2)\n",
        "df3['Kit-Child Part(t-2)'] = df3['Kit-Child Part'].shift(2)\n",
        "df3['Obsolete(t-2)'] = df3['Obsolete'].shift(2)\n",
        "df3['Regular(t-2)'] = df3['Regular'].shift(2)\n",
        "#t-3 lag\n",
        "df3['Kit(t-3)'] = df3['Kit'].shift(3)\n",
        "df3['Kit-Child Part(t-3)'] = df3['Kit-Child Part'].shift(3)\n",
        "df3['Obsolete(t-3)'] = df3['Obsolete'].shift(3)\n",
        "df3['Regular(t-3)'] = df3['Regular'].shift(3)"
      ],
      "metadata": {
        "id": "9l3UT2AFPSPQ"
      },
      "execution_count": 156,
      "outputs": []
    },
    {
      "cell_type": "code",
      "source": [
        "df3.dropna(inplace=True)"
      ],
      "metadata": {
        "id": "RTNU6U9d8SlM"
      },
      "execution_count": 157,
      "outputs": []
    },
    {
      "cell_type": "code",
      "source": [
        "df3 = df3.reset_index()\n",
        "df3['index']=pd.to_datetime(df3['index'])\n",
        "df3['month'] = df3['index'].dt.month\n",
        "df3['year'] = df3['index'].dt.year"
      ],
      "metadata": {
        "id": "pbMIpuVT8k7h"
      },
      "execution_count": 158,
      "outputs": []
    },
    {
      "cell_type": "code",
      "source": [
        "del df3['index']"
      ],
      "metadata": {
        "id": "DISK67tV8-Sw"
      },
      "execution_count": 159,
      "outputs": []
    },
    {
      "cell_type": "code",
      "source": [
        "for i in df2.columns.to_list():\n",
        "  print(f'*********Other variables Correlation With --{i}*********')\n",
        "  print(round(df3.corrwith(df3[i]).sort_values(ascending=False),3),'\\n---------------\\n')\n"
      ],
      "metadata": {
        "id": "FQeAvrYt9xpw"
      },
      "execution_count": null,
      "outputs": []
    },
    {
      "cell_type": "code",
      "source": [
        "def model_perfamance(df,i='Kit'):\n",
        "  X_train, X_test, y_train, y_test = train_test_split(df3.loc[:, df.columns != i], df[i], test_size=0.20, random_state=42)\n",
        "  model = XGBRegressor(n_estimators=10, max_depth=20, verbosity=2)\n",
        "  model.fit(X_train, y_train)\n",
        "  y_train_predict = model.predict(X_train)\n",
        "  y_test_predict = model.predict(X_test)\n",
        "  print(f'MAPE Error of {i}:=--',mean_absolute_percentage_error(y_test,y_test_predict))\n",
        "  return y_test_predict"
      ],
      "metadata": {
        "id": "kD7GSwq6E2zZ"
      },
      "execution_count": 160,
      "outputs": []
    },
    {
      "cell_type": "code",
      "source": [
        "df3.head()"
      ],
      "metadata": {
        "id": "-RznsYhNKdoT"
      },
      "execution_count": null,
      "outputs": []
    },
    {
      "cell_type": "code",
      "source": [
        "error_mape = pd.DataFrame({})\n",
        "for i in valid.columns.to_list():\n",
        "  y_test_predict = model_perfamance(df3,i=i)\n",
        "  er = mean_absolute_percentage_error(y_test,y_test_predict)##mape calculation\n",
        "  rmse = round(np.sqrt(mean_squared_error(y_test,y_test_predict, squared=False)),3)##rmse calculation\n",
        "  error_mape=error_mape.append({'Part No.':i,\n",
        "                                'mape':er,\n",
        "                                'rmse':rmse},ignore_index=True)"
      ],
      "metadata": {
        "id": "VWCYNFPmGTjC"
      },
      "execution_count": null,
      "outputs": []
    },
    {
      "cell_type": "code",
      "source": [
        "error_mape"
      ],
      "metadata": {
        "id": "30z6H_V9Hd7I"
      },
      "execution_count": null,
      "outputs": []
    }
  ]
}